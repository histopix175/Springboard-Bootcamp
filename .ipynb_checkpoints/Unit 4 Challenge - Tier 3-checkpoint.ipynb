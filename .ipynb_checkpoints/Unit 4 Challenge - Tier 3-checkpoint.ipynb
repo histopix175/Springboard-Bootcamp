{
 "cells": [
  {
   "cell_type": "markdown",
   "metadata": {
    "colab_type": "text",
    "id": "Tia3MP1SJpgj"
   },
   "source": [
    "# Springboard Data Science Career Track Unit 4 Challenge - Tier 3 Complete\n",
    "\n",
    "## Objectives\n",
    "Hey! Great job getting through those challenging DataCamp courses. You're learning a lot in a short span of time. \n",
    "\n",
    "In this notebook, you're going to apply the skills you've been learning, bridging the gap between the controlled environment of DataCamp and the *slightly* messier work that data scientists do with actual datasets!\n",
    "\n",
    "Here’s the mystery we’re going to solve: ***which boroughs of London have seen the greatest increase in housing prices, on average, over the last two decades?***\n",
    "\n",
    "\n",
    "A borough is just a fancy word for district. You may be familiar with the five boroughs of New York… well, there are 32 boroughs within Greater London [(here's some info for the curious)](https://en.wikipedia.org/wiki/London_boroughs). Some of them are more desirable areas to live in, and the data will reflect that with a greater rise in housing prices.\n",
    "\n",
    "***This is the Tier 3 notebook, which means it's not filled in at all: we'll just give you the skeleton of a project, the brief and the data. It's up to you to play around with it and see what you can find out! Good luck! If you struggle, feel free to look at easier tiers for help; but try to dip in and out of them, as the more independent work you do, the better it is for your learning!***\n",
    "\n",
    "This challenge will make use of only what you learned in the following DataCamp courses: \n",
    "- Prework courses (Introduction to Python for Data Science, Intermediate Python for Data Science)\n",
    "- Data Types for Data Science\n",
    "- Python Data Science Toolbox (Part One) \n",
    "- pandas Foundations\n",
    "- Manipulating DataFrames with pandas\n",
    "- Merging DataFrames with pandas\n",
    "\n",
    "Of the tools, techniques and concepts in the above DataCamp courses, this challenge should require the application of the following: \n",
    "- **pandas**\n",
    "    - **data ingestion and inspection** (pandas Foundations, Module One) \n",
    "    - **exploratory data analysis** (pandas Foundations, Module Two)\n",
    "    - **tidying and cleaning** (Manipulating DataFrames with pandas, Module Three) \n",
    "    - **transforming DataFrames** (Manipulating DataFrames with pandas, Module One)\n",
    "    - **subsetting DataFrames with lists** (Manipulating DataFrames with pandas, Module One) \n",
    "    - **filtering DataFrames** (Manipulating DataFrames with pandas, Module One) \n",
    "    - **grouping data** (Manipulating DataFrames with pandas, Module Four) \n",
    "    - **melting data** (Manipulating DataFrames with pandas, Module Three) \n",
    "    - **advanced indexing** (Manipulating DataFrames with pandas, Module Four) \n",
    "- **matplotlib** (Intermediate Python for Data Science, Module One)\n",
    "- **fundamental data types** (Data Types for Data Science, Module One) \n",
    "- **dictionaries** (Intermediate Python for Data Science, Module Two)\n",
    "- **handling dates and times** (Data Types for Data Science, Module Four)\n",
    "- **function definition** (Python Data Science Toolbox - Part One, Module One)\n",
    "- **default arguments, variable length, and scope** (Python Data Science Toolbox - Part One, Module Two) \n",
    "- **lambda functions and error handling** (Python Data Science Toolbox - Part One, Module Four) "
   ]
  },
  {
   "cell_type": "markdown",
   "metadata": {
    "colab_type": "text",
    "id": "Ipgd2nV8Jpgl"
   },
   "source": [
    "## The Data Science Pipeline\n",
    "\n",
    "This is Tier Three, so we'll get you started. But after that, it's all in your hands! When you feel done with your investigations, look back over what you've accomplished, and prepare a quick presentation of your findings for the next mentor meeting. \n",
    "\n",
    "Data Science is magical. In this case study, you'll get to apply some complex machine learning algorithms. But as  [David Spiegelhalter](https://www.youtube.com/watch?v=oUs1uvsz0Ok) reminds us, there is no substitute for simply **taking a really, really good look at the data.** Sometimes, this is all we need to answer our question.\n",
    "\n",
    "Data Science projects generally adhere to the four stages of Data Science Pipeline:\n",
    "1. Sourcing and loading \n",
    "2. Cleaning, transforming, and visualizing \n",
    "3. Modeling \n",
    "4. Evaluating and concluding \n"
   ]
  },
  {
   "cell_type": "markdown",
   "metadata": {
    "colab_type": "text",
    "id": "zswDqbefJpgm"
   },
   "source": [
    "### 1. Sourcing and Loading \n",
    "\n",
    "Any Data Science project kicks off by importing  ***pandas***. The documentation of this wonderful library can be found [here](https://pandas.pydata.org/). As you've seen, pandas is conveniently connected to the [Numpy](http://www.numpy.org/) and [Matplotlib](https://matplotlib.org/) libraries. \n",
    "\n",
    "***Hint:*** This part of the data science pipeline will test those skills you acquired in the pandas Foundations course, Module One. "
   ]
  },
  {
   "cell_type": "markdown",
   "metadata": {
    "colab_type": "text",
    "id": "aEau5nEvJpgm"
   },
   "source": [
    "#### 1.1. Importing Libraries"
   ]
  },
  {
   "cell_type": "code",
   "execution_count": 1,
   "metadata": {
    "colab": {},
    "colab_type": "code",
    "id": "7Bt_Q_oPJpgn"
   },
   "outputs": [],
   "source": [
    "# Let's import the pandas, numpy libraries as pd, and np respectively. \n",
    "import pandas as pd\n",
    "import numpy as np\n",
    "\n",
    "# Load the pyplot collection of functions from matplotlib, as plt \n",
    "import matplotlib.pyplot as plt"
   ]
  },
  {
   "cell_type": "markdown",
   "metadata": {
    "colab_type": "text",
    "id": "koUrawxsJpgq"
   },
   "source": [
    "#### 1.2.  Loading the data\n",
    "Your data comes from the [London Datastore](https://data.london.gov.uk/): a free, open-source data-sharing portal for London-oriented datasets. "
   ]
  },
  {
   "cell_type": "code",
   "execution_count": 2,
   "metadata": {
    "colab": {},
    "colab_type": "code",
    "id": "AiLiD4v3Jpgr"
   },
   "outputs": [],
   "source": [
    "# First, make a variable called url_LondonHousePrices, and assign it the following link, enclosed in quotation-marks as a string:\n",
    "# https://data.london.gov.uk/download/uk-house-price-index/70ac0766-8902-4eb5-aab5-01951aaed773/UK%20House%20price%20index.xls\n",
    "\n",
    "url_LondonHousePrices = \"https://data.london.gov.uk/download/uk-house-price-index/70ac0766-8902-4eb5-aab5-01951aaed773/UK%20House%20price%20index.xls\"\n",
    "\n",
    "# The dataset we're interested in contains the Average prices of the houses, and is actually on a particular sheet of the Excel file. \n",
    "# As a result, we need to specify the sheet name in the read_excel() method.\n",
    "# Put this data into a variable called properties.  \n",
    "properties = pd.read_excel(url_LondonHousePrices, sheet_name='Average price', index_col= None)"
   ]
  },
  {
   "cell_type": "markdown",
   "metadata": {
    "colab_type": "text",
    "id": "POukEJXgJpgu"
   },
   "source": [
    "### 2. Cleaning, transforming, and visualizing\n",
    "This second stage is arguably the most important part of any Data Science project. The first thing to do is take a proper look at the data. Cleaning forms the majority of this stage, and can be done both before or after Transformation.\n",
    "\n",
    "The end goal of data cleaning is to have tidy data. When data is tidy: \n",
    "\n",
    "1. Each variable has a column.\n",
    "2. Each observation forms a row.\n",
    "\n",
    "Keep the end goal in mind as you move through this process, every step will take you closer. \n",
    "\n",
    "\n",
    "\n",
    "***Hint:*** This part of the data science pipeline should test those skills you acquired in: \n",
    "- Intermediate Python for data science, all modules.\n",
    "- pandas Foundations, all modules. \n",
    "- Manipulating DataFrames with pandas, all modules.\n",
    "- Data Types for Data Science, Module Four.\n",
    "- Python Data Science Toolbox - Part One, all modules"
   ]
  },
  {
   "cell_type": "markdown",
   "metadata": {
    "colab_type": "text",
    "id": "Te0Q548tnzZa"
   },
   "source": [
    "**2.1. Exploring your data** \n",
    "\n",
    "Think about your pandas functions for checking out a dataframe. "
   ]
  },
  {
   "cell_type": "code",
   "execution_count": 3,
   "metadata": {
    "colab": {},
    "colab_type": "code",
    "id": "Rxirxw_qoAJa"
   },
   "outputs": [
    {
     "data": {
      "text/plain": [
       "(366, 49)"
      ]
     },
     "execution_count": 3,
     "metadata": {},
     "output_type": "execute_result"
    }
   ],
   "source": [
    "properties.shape"
   ]
  },
  {
   "cell_type": "code",
   "execution_count": 4,
   "metadata": {},
   "outputs": [
    {
     "data": {
      "text/html": [
       "<div>\n",
       "<style scoped>\n",
       "    .dataframe tbody tr th:only-of-type {\n",
       "        vertical-align: middle;\n",
       "    }\n",
       "\n",
       "    .dataframe tbody tr th {\n",
       "        vertical-align: top;\n",
       "    }\n",
       "\n",
       "    .dataframe thead th {\n",
       "        text-align: right;\n",
       "    }\n",
       "</style>\n",
       "<table border=\"1\" class=\"dataframe\">\n",
       "  <thead>\n",
       "    <tr style=\"text-align: right;\">\n",
       "      <th></th>\n",
       "      <th>Unnamed: 0</th>\n",
       "      <th>City of London</th>\n",
       "      <th>Barking &amp; Dagenham</th>\n",
       "      <th>Barnet</th>\n",
       "      <th>Bexley</th>\n",
       "      <th>Brent</th>\n",
       "      <th>Bromley</th>\n",
       "      <th>Camden</th>\n",
       "      <th>Croydon</th>\n",
       "      <th>Ealing</th>\n",
       "      <th>...</th>\n",
       "      <th>NORTH WEST</th>\n",
       "      <th>YORKS &amp; THE HUMBER</th>\n",
       "      <th>EAST MIDLANDS</th>\n",
       "      <th>WEST MIDLANDS</th>\n",
       "      <th>EAST OF ENGLAND</th>\n",
       "      <th>LONDON</th>\n",
       "      <th>SOUTH EAST</th>\n",
       "      <th>SOUTH WEST</th>\n",
       "      <th>Unnamed: 47</th>\n",
       "      <th>England</th>\n",
       "    </tr>\n",
       "  </thead>\n",
       "  <tbody>\n",
       "    <tr>\n",
       "      <th>0</th>\n",
       "      <td>NaT</td>\n",
       "      <td>E09000001</td>\n",
       "      <td>E09000002</td>\n",
       "      <td>E09000003</td>\n",
       "      <td>E09000004</td>\n",
       "      <td>E09000005</td>\n",
       "      <td>E09000006</td>\n",
       "      <td>E09000007</td>\n",
       "      <td>E09000008</td>\n",
       "      <td>E09000009</td>\n",
       "      <td>...</td>\n",
       "      <td>E12000002</td>\n",
       "      <td>E12000003</td>\n",
       "      <td>E12000004</td>\n",
       "      <td>E12000005</td>\n",
       "      <td>E12000006</td>\n",
       "      <td>E12000007</td>\n",
       "      <td>E12000008</td>\n",
       "      <td>E12000009</td>\n",
       "      <td>NaN</td>\n",
       "      <td>E92000001</td>\n",
       "    </tr>\n",
       "    <tr>\n",
       "      <th>1</th>\n",
       "      <td>1995-01-01</td>\n",
       "      <td>90347</td>\n",
       "      <td>51870</td>\n",
       "      <td>98948</td>\n",
       "      <td>64956</td>\n",
       "      <td>76880</td>\n",
       "      <td>83082</td>\n",
       "      <td>119775</td>\n",
       "      <td>70118</td>\n",
       "      <td>85469</td>\n",
       "      <td>...</td>\n",
       "      <td>40907</td>\n",
       "      <td>42171</td>\n",
       "      <td>43856</td>\n",
       "      <td>46470</td>\n",
       "      <td>56098</td>\n",
       "      <td>79687</td>\n",
       "      <td>64502</td>\n",
       "      <td>52799</td>\n",
       "      <td>NaN</td>\n",
       "      <td>50231</td>\n",
       "    </tr>\n",
       "    <tr>\n",
       "      <th>2</th>\n",
       "      <td>1995-02-01</td>\n",
       "      <td>81213</td>\n",
       "      <td>52513</td>\n",
       "      <td>98848</td>\n",
       "      <td>64786</td>\n",
       "      <td>77651</td>\n",
       "      <td>83068</td>\n",
       "      <td>118365</td>\n",
       "      <td>69908</td>\n",
       "      <td>86551</td>\n",
       "      <td>...</td>\n",
       "      <td>40877</td>\n",
       "      <td>41912</td>\n",
       "      <td>44344</td>\n",
       "      <td>47249</td>\n",
       "      <td>55991</td>\n",
       "      <td>77913</td>\n",
       "      <td>64196</td>\n",
       "      <td>52462</td>\n",
       "      <td>NaN</td>\n",
       "      <td>50130</td>\n",
       "    </tr>\n",
       "    <tr>\n",
       "      <th>3</th>\n",
       "      <td>1995-03-01</td>\n",
       "      <td>78168</td>\n",
       "      <td>52701</td>\n",
       "      <td>97848</td>\n",
       "      <td>64366</td>\n",
       "      <td>77644</td>\n",
       "      <td>82856</td>\n",
       "      <td>119131</td>\n",
       "      <td>69666</td>\n",
       "      <td>87067</td>\n",
       "      <td>...</td>\n",
       "      <td>41351</td>\n",
       "      <td>42544</td>\n",
       "      <td>43701</td>\n",
       "      <td>47345</td>\n",
       "      <td>55574</td>\n",
       "      <td>79110</td>\n",
       "      <td>64597</td>\n",
       "      <td>51716</td>\n",
       "      <td>NaN</td>\n",
       "      <td>50229</td>\n",
       "    </tr>\n",
       "    <tr>\n",
       "      <th>4</th>\n",
       "      <td>1995-04-01</td>\n",
       "      <td>76172</td>\n",
       "      <td>54618</td>\n",
       "      <td>96273</td>\n",
       "      <td>64276</td>\n",
       "      <td>78668</td>\n",
       "      <td>82525</td>\n",
       "      <td>118948</td>\n",
       "      <td>69562</td>\n",
       "      <td>87933</td>\n",
       "      <td>...</td>\n",
       "      <td>41195</td>\n",
       "      <td>42934</td>\n",
       "      <td>44414</td>\n",
       "      <td>47359</td>\n",
       "      <td>55966</td>\n",
       "      <td>79708</td>\n",
       "      <td>65111</td>\n",
       "      <td>52877</td>\n",
       "      <td>NaN</td>\n",
       "      <td>50597</td>\n",
       "    </tr>\n",
       "  </tbody>\n",
       "</table>\n",
       "<p>5 rows × 49 columns</p>\n",
       "</div>"
      ],
      "text/plain": [
       "  Unnamed: 0 City of London Barking & Dagenham     Barnet     Bexley  \\\n",
       "0        NaT      E09000001          E09000002  E09000003  E09000004   \n",
       "1 1995-01-01          90347              51870      98948      64956   \n",
       "2 1995-02-01          81213              52513      98848      64786   \n",
       "3 1995-03-01          78168              52701      97848      64366   \n",
       "4 1995-04-01          76172              54618      96273      64276   \n",
       "\n",
       "       Brent    Bromley     Camden    Croydon     Ealing  ... NORTH WEST  \\\n",
       "0  E09000005  E09000006  E09000007  E09000008  E09000009  ...  E12000002   \n",
       "1      76880      83082     119775      70118      85469  ...      40907   \n",
       "2      77651      83068     118365      69908      86551  ...      40877   \n",
       "3      77644      82856     119131      69666      87067  ...      41351   \n",
       "4      78668      82525     118948      69562      87933  ...      41195   \n",
       "\n",
       "  YORKS & THE HUMBER EAST MIDLANDS WEST MIDLANDS EAST OF ENGLAND     LONDON  \\\n",
       "0          E12000003     E12000004     E12000005       E12000006  E12000007   \n",
       "1              42171         43856         46470           56098      79687   \n",
       "2              41912         44344         47249           55991      77913   \n",
       "3              42544         43701         47345           55574      79110   \n",
       "4              42934         44414         47359           55966      79708   \n",
       "\n",
       "  SOUTH EAST SOUTH WEST Unnamed: 47    England  \n",
       "0  E12000008  E12000009         NaN  E92000001  \n",
       "1      64502      52799         NaN      50231  \n",
       "2      64196      52462         NaN      50130  \n",
       "3      64597      51716         NaN      50229  \n",
       "4      65111      52877         NaN      50597  \n",
       "\n",
       "[5 rows x 49 columns]"
      ]
     },
     "execution_count": 4,
     "metadata": {},
     "output_type": "execute_result"
    }
   ],
   "source": [
    "properties.head()"
   ]
  },
  {
   "cell_type": "markdown",
   "metadata": {
    "colab_type": "text",
    "id": "tE9Sqt9-oAta"
   },
   "source": [
    "**2.2. Cleaning the data**\n",
    "\n",
    "You might find you need to transpose your dataframe, check out what its row indexes are, and reset the index. You  also might find you need to assign the values of the first row to your column headings  . (Hint: recall the .columns feature of DataFrames, as well as the iloc[] method).\n",
    "\n",
    "Don't be afraid to use StackOverflow for help  with this."
   ]
  },
  {
   "cell_type": "code",
   "execution_count": 5,
   "metadata": {
    "colab": {},
    "colab_type": "code",
    "id": "cdAu1A3YoH_r"
   },
   "outputs": [],
   "source": [
    "properties_t = properties.T.reset_index()"
   ]
  },
  {
   "cell_type": "code",
   "execution_count": 6,
   "metadata": {},
   "outputs": [],
   "source": [
    "properties_t.columns = properties_t.iloc[0]"
   ]
  },
  {
   "cell_type": "code",
   "execution_count": 7,
   "metadata": {},
   "outputs": [],
   "source": [
    "properties_t = properties_t.drop(0)"
   ]
  },
  {
   "cell_type": "code",
   "execution_count": 10,
   "metadata": {},
   "outputs": [
    {
     "data": {
      "text/html": [
       "<div>\n",
       "<style scoped>\n",
       "    .dataframe tbody tr th:only-of-type {\n",
       "        vertical-align: middle;\n",
       "    }\n",
       "\n",
       "    .dataframe tbody tr th {\n",
       "        vertical-align: top;\n",
       "    }\n",
       "\n",
       "    .dataframe thead th {\n",
       "        text-align: right;\n",
       "    }\n",
       "</style>\n",
       "<table border=\"1\" class=\"dataframe\">\n",
       "  <thead>\n",
       "    <tr style=\"text-align: right;\">\n",
       "      <th></th>\n",
       "      <th>Unnamed: 0</th>\n",
       "      <th>NaT</th>\n",
       "      <th>1995-01-01 00:00:00</th>\n",
       "      <th>1995-02-01 00:00:00</th>\n",
       "      <th>1995-03-01 00:00:00</th>\n",
       "      <th>1995-04-01 00:00:00</th>\n",
       "      <th>1995-05-01 00:00:00</th>\n",
       "      <th>1995-06-01 00:00:00</th>\n",
       "      <th>1995-07-01 00:00:00</th>\n",
       "      <th>1995-08-01 00:00:00</th>\n",
       "      <th>...</th>\n",
       "      <th>2024-08-01 00:00:00</th>\n",
       "      <th>2024-09-01 00:00:00</th>\n",
       "      <th>2024-10-01 00:00:00</th>\n",
       "      <th>2024-11-01 00:00:00</th>\n",
       "      <th>2024-12-01 00:00:00</th>\n",
       "      <th>2025-01-01 00:00:00</th>\n",
       "      <th>2025-02-01 00:00:00</th>\n",
       "      <th>2025-03-01 00:00:00</th>\n",
       "      <th>2025-04-01 00:00:00</th>\n",
       "      <th>2025-05-01 00:00:00</th>\n",
       "    </tr>\n",
       "  </thead>\n",
       "  <tbody>\n",
       "    <tr>\n",
       "      <th>1</th>\n",
       "      <td>City of London</td>\n",
       "      <td>E09000001</td>\n",
       "      <td>90347</td>\n",
       "      <td>81213</td>\n",
       "      <td>78168</td>\n",
       "      <td>76172</td>\n",
       "      <td>83392</td>\n",
       "      <td>93757</td>\n",
       "      <td>108801</td>\n",
       "      <td>110976</td>\n",
       "      <td>...</td>\n",
       "      <td>764921</td>\n",
       "      <td>763706</td>\n",
       "      <td>741765</td>\n",
       "      <td>727751</td>\n",
       "      <td>777288</td>\n",
       "      <td>783207</td>\n",
       "      <td>766638</td>\n",
       "      <td>722888</td>\n",
       "      <td>760612</td>\n",
       "      <td>823848</td>\n",
       "    </tr>\n",
       "    <tr>\n",
       "      <th>2</th>\n",
       "      <td>Barking &amp; Dagenham</td>\n",
       "      <td>E09000002</td>\n",
       "      <td>51870</td>\n",
       "      <td>52513</td>\n",
       "      <td>52701</td>\n",
       "      <td>54618</td>\n",
       "      <td>54524</td>\n",
       "      <td>55200</td>\n",
       "      <td>53569</td>\n",
       "      <td>53691</td>\n",
       "      <td>...</td>\n",
       "      <td>335087</td>\n",
       "      <td>339744</td>\n",
       "      <td>347931</td>\n",
       "      <td>352895</td>\n",
       "      <td>355425</td>\n",
       "      <td>353979</td>\n",
       "      <td>363732</td>\n",
       "      <td>372806</td>\n",
       "      <td>374253</td>\n",
       "      <td>370694</td>\n",
       "    </tr>\n",
       "    <tr>\n",
       "      <th>3</th>\n",
       "      <td>Barnet</td>\n",
       "      <td>E09000003</td>\n",
       "      <td>98948</td>\n",
       "      <td>98848</td>\n",
       "      <td>97848</td>\n",
       "      <td>96273</td>\n",
       "      <td>95737</td>\n",
       "      <td>95577</td>\n",
       "      <td>96992</td>\n",
       "      <td>97968</td>\n",
       "      <td>...</td>\n",
       "      <td>628928</td>\n",
       "      <td>627552</td>\n",
       "      <td>629655</td>\n",
       "      <td>632386</td>\n",
       "      <td>627547</td>\n",
       "      <td>614121</td>\n",
       "      <td>606811</td>\n",
       "      <td>604788</td>\n",
       "      <td>598964</td>\n",
       "      <td>590194</td>\n",
       "    </tr>\n",
       "    <tr>\n",
       "      <th>4</th>\n",
       "      <td>Bexley</td>\n",
       "      <td>E09000004</td>\n",
       "      <td>64956</td>\n",
       "      <td>64786</td>\n",
       "      <td>64366</td>\n",
       "      <td>64276</td>\n",
       "      <td>63995</td>\n",
       "      <td>64251</td>\n",
       "      <td>63721</td>\n",
       "      <td>64431</td>\n",
       "      <td>...</td>\n",
       "      <td>404352</td>\n",
       "      <td>406132</td>\n",
       "      <td>407721</td>\n",
       "      <td>406226</td>\n",
       "      <td>403881</td>\n",
       "      <td>405166</td>\n",
       "      <td>407068</td>\n",
       "      <td>406953</td>\n",
       "      <td>396072</td>\n",
       "      <td>394537</td>\n",
       "    </tr>\n",
       "    <tr>\n",
       "      <th>5</th>\n",
       "      <td>Brent</td>\n",
       "      <td>E09000005</td>\n",
       "      <td>76880</td>\n",
       "      <td>77651</td>\n",
       "      <td>77644</td>\n",
       "      <td>78668</td>\n",
       "      <td>79464</td>\n",
       "      <td>80118</td>\n",
       "      <td>79920</td>\n",
       "      <td>79295</td>\n",
       "      <td>...</td>\n",
       "      <td>573670</td>\n",
       "      <td>580059</td>\n",
       "      <td>593569</td>\n",
       "      <td>590426</td>\n",
       "      <td>579868</td>\n",
       "      <td>571036</td>\n",
       "      <td>562918</td>\n",
       "      <td>563087</td>\n",
       "      <td>566629</td>\n",
       "      <td>562397</td>\n",
       "    </tr>\n",
       "  </tbody>\n",
       "</table>\n",
       "<p>5 rows × 367 columns</p>\n",
       "</div>"
      ],
      "text/plain": [
       "0          Unnamed: 0        NaT 1995-01-01 00:00:00 1995-02-01 00:00:00  \\\n",
       "1      City of London  E09000001               90347               81213   \n",
       "2  Barking & Dagenham  E09000002               51870               52513   \n",
       "3              Barnet  E09000003               98948               98848   \n",
       "4              Bexley  E09000004               64956               64786   \n",
       "5               Brent  E09000005               76880               77651   \n",
       "\n",
       "0 1995-03-01 00:00:00 1995-04-01 00:00:00 1995-05-01 00:00:00  \\\n",
       "1               78168               76172               83392   \n",
       "2               52701               54618               54524   \n",
       "3               97848               96273               95737   \n",
       "4               64366               64276               63995   \n",
       "5               77644               78668               79464   \n",
       "\n",
       "0 1995-06-01 00:00:00 1995-07-01 00:00:00 1995-08-01 00:00:00  ...  \\\n",
       "1               93757              108801              110976  ...   \n",
       "2               55200               53569               53691  ...   \n",
       "3               95577               96992               97968  ...   \n",
       "4               64251               63721               64431  ...   \n",
       "5               80118               79920               79295  ...   \n",
       "\n",
       "0 2024-08-01 00:00:00 2024-09-01 00:00:00 2024-10-01 00:00:00  \\\n",
       "1              764921              763706              741765   \n",
       "2              335087              339744              347931   \n",
       "3              628928              627552              629655   \n",
       "4              404352              406132              407721   \n",
       "5              573670              580059              593569   \n",
       "\n",
       "0 2024-11-01 00:00:00 2024-12-01 00:00:00 2025-01-01 00:00:00  \\\n",
       "1              727751              777288              783207   \n",
       "2              352895              355425              353979   \n",
       "3              632386              627547              614121   \n",
       "4              406226              403881              405166   \n",
       "5              590426              579868              571036   \n",
       "\n",
       "0 2025-02-01 00:00:00 2025-03-01 00:00:00 2025-04-01 00:00:00  \\\n",
       "1              766638              722888              760612   \n",
       "2              363732              372806              374253   \n",
       "3              606811              604788              598964   \n",
       "4              407068              406953              396072   \n",
       "5              562918              563087              566629   \n",
       "\n",
       "0 2025-05-01 00:00:00  \n",
       "1              823848  \n",
       "2              370694  \n",
       "3              590194  \n",
       "4              394537  \n",
       "5              562397  \n",
       "\n",
       "[5 rows x 367 columns]"
      ]
     },
     "execution_count": 10,
     "metadata": {},
     "output_type": "execute_result"
    }
   ],
   "source": [
    "properties_t.head()"
   ]
  },
  {
   "cell_type": "markdown",
   "metadata": {
    "colab_type": "text",
    "id": "o1uLbJAsoIjK"
   },
   "source": [
    "**2.3. Cleaning the data (part 2)**\n",
    "\n",
    "You might we have to **rename** a couple columns. How do you do this? The clue's pretty bold..."
   ]
  },
  {
   "cell_type": "code",
   "execution_count": 16,
   "metadata": {
    "colab": {},
    "colab_type": "code",
    "id": "GKkmn1AnoVZS"
   },
   "outputs": [],
   "source": [
    "properties_t = properties_t.rename(columns={'Unnamed: 0': 'London_Borough', pd.NaT: 'ID'})"
   ]
  },
  {
   "cell_type": "markdown",
   "metadata": {
    "colab_type": "text",
    "id": "jy8BzXHmoWEw"
   },
   "source": [
    "**2.4.Transforming the data**\n",
    "\n",
    "Remember what Wes McKinney said about tidy data? \n",
    "\n",
    "You might need to **melt** your DataFrame here. "
   ]
  },
  {
   "cell_type": "code",
   "execution_count": 23,
   "metadata": {
    "colab": {},
    "colab_type": "code",
    "id": "S2wM0qLuo2Zt"
   },
   "outputs": [],
   "source": [
    "properties_melt = pd.melt(properties_t, id_vars= ['London_Borough', 'ID'], var_name='Date', value_name='Avg_Price')"
   ]
  },
  {
   "cell_type": "code",
   "execution_count": 24,
   "metadata": {},
   "outputs": [
    {
     "data": {
      "text/html": [
       "<div>\n",
       "<style scoped>\n",
       "    .dataframe tbody tr th:only-of-type {\n",
       "        vertical-align: middle;\n",
       "    }\n",
       "\n",
       "    .dataframe tbody tr th {\n",
       "        vertical-align: top;\n",
       "    }\n",
       "\n",
       "    .dataframe thead th {\n",
       "        text-align: right;\n",
       "    }\n",
       "</style>\n",
       "<table border=\"1\" class=\"dataframe\">\n",
       "  <thead>\n",
       "    <tr style=\"text-align: right;\">\n",
       "      <th></th>\n",
       "      <th>London_Borough</th>\n",
       "      <th>ID</th>\n",
       "      <th>Date</th>\n",
       "      <th>Avg_Price</th>\n",
       "    </tr>\n",
       "  </thead>\n",
       "  <tbody>\n",
       "    <tr>\n",
       "      <th>0</th>\n",
       "      <td>City of London</td>\n",
       "      <td>E09000001</td>\n",
       "      <td>1995-01-01 00:00:00</td>\n",
       "      <td>90347</td>\n",
       "    </tr>\n",
       "    <tr>\n",
       "      <th>1</th>\n",
       "      <td>Barking &amp; Dagenham</td>\n",
       "      <td>E09000002</td>\n",
       "      <td>1995-01-01 00:00:00</td>\n",
       "      <td>51870</td>\n",
       "    </tr>\n",
       "    <tr>\n",
       "      <th>2</th>\n",
       "      <td>Barnet</td>\n",
       "      <td>E09000003</td>\n",
       "      <td>1995-01-01 00:00:00</td>\n",
       "      <td>98948</td>\n",
       "    </tr>\n",
       "    <tr>\n",
       "      <th>3</th>\n",
       "      <td>Bexley</td>\n",
       "      <td>E09000004</td>\n",
       "      <td>1995-01-01 00:00:00</td>\n",
       "      <td>64956</td>\n",
       "    </tr>\n",
       "    <tr>\n",
       "      <th>4</th>\n",
       "      <td>Brent</td>\n",
       "      <td>E09000005</td>\n",
       "      <td>1995-01-01 00:00:00</td>\n",
       "      <td>76880</td>\n",
       "    </tr>\n",
       "  </tbody>\n",
       "</table>\n",
       "</div>"
      ],
      "text/plain": [
       "       London_Borough         ID                 Date Avg_Price\n",
       "0      City of London  E09000001  1995-01-01 00:00:00     90347\n",
       "1  Barking & Dagenham  E09000002  1995-01-01 00:00:00     51870\n",
       "2              Barnet  E09000003  1995-01-01 00:00:00     98948\n",
       "3              Bexley  E09000004  1995-01-01 00:00:00     64956\n",
       "4               Brent  E09000005  1995-01-01 00:00:00     76880"
      ]
     },
     "execution_count": 24,
     "metadata": {},
     "output_type": "execute_result"
    }
   ],
   "source": [
    "properties_melt.head()"
   ]
  },
  {
   "cell_type": "markdown",
   "metadata": {
    "colab_type": "text",
    "id": "7kIsgAo7o3mf"
   },
   "source": [
    "Remember to make sure your column data types are all correct. Average prices, for example, should be floating point numbers... "
   ]
  },
  {
   "cell_type": "code",
   "execution_count": 25,
   "metadata": {
    "colab": {},
    "colab_type": "code",
    "id": "ZcR4IHbcpOaq"
   },
   "outputs": [
    {
     "data": {
      "text/plain": [
       "London_Borough    object\n",
       "ID                object\n",
       "Date              object\n",
       "Avg_Price         object\n",
       "dtype: object"
      ]
     },
     "execution_count": 25,
     "metadata": {},
     "output_type": "execute_result"
    }
   ],
   "source": [
    "properties_melt.dtypes"
   ]
  },
  {
   "cell_type": "code",
   "execution_count": 26,
   "metadata": {},
   "outputs": [],
   "source": [
    "properties_melt['Avg_Price'] = pd.to_numeric(properties_melt['Avg_Price'])"
   ]
  },
  {
   "cell_type": "code",
   "execution_count": 27,
   "metadata": {},
   "outputs": [
    {
     "data": {
      "text/plain": [
       "London_Borough     object\n",
       "ID                 object\n",
       "Date               object\n",
       "Avg_Price         float64\n",
       "dtype: object"
      ]
     },
     "execution_count": 27,
     "metadata": {},
     "output_type": "execute_result"
    }
   ],
   "source": [
    "properties_melt.dtypes"
   ]
  },
  {
   "cell_type": "markdown",
   "metadata": {
    "colab_type": "text",
    "id": "knLUXHLypOtw"
   },
   "source": [
    "**2.5. Cleaning the data (part 3)**\n",
    "\n",
    "Do we have an equal number of observations in the ID, Average Price, Month, and London Borough columns? Remember that there are only 32 London Boroughs. How many entries do you have in that column? \n",
    "\n",
    "Check out the contents of the London Borough column, and if you find null values, get rid of them however you see fit. "
   ]
  },
  {
   "cell_type": "code",
   "execution_count": 28,
   "metadata": {
    "colab": {},
    "colab_type": "code",
    "id": "BnvTW5a3p0fC"
   },
   "outputs": [
    {
     "data": {
      "text/plain": [
       "London_Borough    17520\n",
       "ID                16425\n",
       "Date              17520\n",
       "Avg_Price         16425\n",
       "dtype: int64"
      ]
     },
     "execution_count": 28,
     "metadata": {},
     "output_type": "execute_result"
    }
   ],
   "source": [
    "properties_melt.count()"
   ]
  },
  {
   "cell_type": "code",
   "execution_count": 39,
   "metadata": {},
   "outputs": [],
   "source": [
    "properties_clean = properties_melt[properties_melt['Avg_Price'].notna()]"
   ]
  },
  {
   "cell_type": "code",
   "execution_count": 41,
   "metadata": {},
   "outputs": [
    {
     "data": {
      "text/plain": [
       "0"
      ]
     },
     "execution_count": 41,
     "metadata": {},
     "output_type": "execute_result"
    }
   ],
   "source": [
    "properties_clean['Avg_Price'].isna().sum()"
   ]
  },
  {
   "cell_type": "code",
   "execution_count": 42,
   "metadata": {},
   "outputs": [
    {
     "data": {
      "text/plain": [
       "array(['City of London', 'Barking & Dagenham', 'Barnet', 'Bexley',\n",
       "       'Brent', 'Bromley', 'Camden', 'Croydon', 'Ealing', 'Enfield',\n",
       "       'Greenwich', 'Hackney', 'Hammersmith & Fulham', 'Haringey',\n",
       "       'Harrow', 'Havering', 'Hillingdon', 'Hounslow', 'Islington',\n",
       "       'Kensington & Chelsea', 'Kingston upon Thames', 'Lambeth',\n",
       "       'Lewisham', 'Merton', 'Newham', 'Redbridge',\n",
       "       'Richmond upon Thames', 'Southwark', 'Sutton', 'Tower Hamlets',\n",
       "       'Waltham Forest', 'Wandsworth', 'Westminster', 'Inner London',\n",
       "       'Outer London', 'NORTH EAST', 'NORTH WEST', 'YORKS & THE HUMBER',\n",
       "       'EAST MIDLANDS', 'WEST MIDLANDS', 'EAST OF ENGLAND', 'LONDON',\n",
       "       'SOUTH EAST', 'SOUTH WEST', 'England'], dtype=object)"
      ]
     },
     "execution_count": 42,
     "metadata": {},
     "output_type": "execute_result"
    }
   ],
   "source": [
    "properties_clean['London_Borough'].unique()"
   ]
  },
  {
   "cell_type": "code",
   "execution_count": 51,
   "metadata": {},
   "outputs": [],
   "source": [
    "invalid_borough = ['City of London', 'Inner London', 'Outer London', 'NORTH EAST', 'NORTH WEST', 'YORKS & THE HUMBER', 'EAST MIDLANDS', 'WEST MIDLANDS', 'EAST OF ENGLAND', 'LONDON',\n",
    "       'SOUTH EAST', 'SOUTH WEST', 'England']"
   ]
  },
  {
   "cell_type": "code",
   "execution_count": 60,
   "metadata": {},
   "outputs": [],
   "source": [
    "df = properties_clean[~properties_clean['London_Borough'].isin(invalid_borough)]"
   ]
  },
  {
   "cell_type": "code",
   "execution_count": 61,
   "metadata": {},
   "outputs": [
    {
     "data": {
      "text/plain": [
       "32"
      ]
     },
     "execution_count": 61,
     "metadata": {},
     "output_type": "execute_result"
    }
   ],
   "source": [
    "df['London_Borough'].nunique()"
   ]
  },
  {
   "cell_type": "code",
   "execution_count": 68,
   "metadata": {},
   "outputs": [
    {
     "data": {
      "text/html": [
       "<div>\n",
       "<style scoped>\n",
       "    .dataframe tbody tr th:only-of-type {\n",
       "        vertical-align: middle;\n",
       "    }\n",
       "\n",
       "    .dataframe tbody tr th {\n",
       "        vertical-align: top;\n",
       "    }\n",
       "\n",
       "    .dataframe thead th {\n",
       "        text-align: right;\n",
       "    }\n",
       "</style>\n",
       "<table border=\"1\" class=\"dataframe\">\n",
       "  <thead>\n",
       "    <tr style=\"text-align: right;\">\n",
       "      <th></th>\n",
       "      <th>London_Borough</th>\n",
       "      <th>ID</th>\n",
       "      <th>Date</th>\n",
       "      <th>Avg_Price</th>\n",
       "      <th>Year</th>\n",
       "    </tr>\n",
       "  </thead>\n",
       "  <tbody>\n",
       "    <tr>\n",
       "      <th>1</th>\n",
       "      <td>Barking &amp; Dagenham</td>\n",
       "      <td>E09000002</td>\n",
       "      <td>1995-01-01 00:00:00</td>\n",
       "      <td>51870.0</td>\n",
       "      <td>1995</td>\n",
       "    </tr>\n",
       "    <tr>\n",
       "      <th>2</th>\n",
       "      <td>Barnet</td>\n",
       "      <td>E09000003</td>\n",
       "      <td>1995-01-01 00:00:00</td>\n",
       "      <td>98948.0</td>\n",
       "      <td>1995</td>\n",
       "    </tr>\n",
       "    <tr>\n",
       "      <th>3</th>\n",
       "      <td>Bexley</td>\n",
       "      <td>E09000004</td>\n",
       "      <td>1995-01-01 00:00:00</td>\n",
       "      <td>64956.0</td>\n",
       "      <td>1995</td>\n",
       "    </tr>\n",
       "    <tr>\n",
       "      <th>4</th>\n",
       "      <td>Brent</td>\n",
       "      <td>E09000005</td>\n",
       "      <td>1995-01-01 00:00:00</td>\n",
       "      <td>76880.0</td>\n",
       "      <td>1995</td>\n",
       "    </tr>\n",
       "    <tr>\n",
       "      <th>5</th>\n",
       "      <td>Bromley</td>\n",
       "      <td>E09000006</td>\n",
       "      <td>1995-01-01 00:00:00</td>\n",
       "      <td>83082.0</td>\n",
       "      <td>1995</td>\n",
       "    </tr>\n",
       "  </tbody>\n",
       "</table>\n",
       "</div>"
      ],
      "text/plain": [
       "       London_Borough         ID                 Date  Avg_Price  Year\n",
       "1  Barking & Dagenham  E09000002  1995-01-01 00:00:00    51870.0  1995\n",
       "2              Barnet  E09000003  1995-01-01 00:00:00    98948.0  1995\n",
       "3              Bexley  E09000004  1995-01-01 00:00:00    64956.0  1995\n",
       "4               Brent  E09000005  1995-01-01 00:00:00    76880.0  1995\n",
       "5             Bromley  E09000006  1995-01-01 00:00:00    83082.0  1995"
      ]
     },
     "execution_count": 68,
     "metadata": {},
     "output_type": "execute_result"
    }
   ],
   "source": [
    "df.head()"
   ]
  },
  {
   "cell_type": "markdown",
   "metadata": {
    "colab_type": "text",
    "id": "PGEx6mJsp6dG"
   },
   "source": [
    "**2.6. Visualizing the data**\n",
    "\n",
    "To visualize the data, why not subset on a particular London Borough? Maybe do a line plot of Month against Average Price?"
   ]
  },
  {
   "cell_type": "code",
   "execution_count": 62,
   "metadata": {
    "colab": {},
    "colab_type": "code",
    "id": "nAg5pT9cqHAR"
   },
   "outputs": [],
   "source": [
    "Sutton_data = df[df['London_Borough'] == 'Sutton']"
   ]
  },
  {
   "cell_type": "code",
   "execution_count": 63,
   "metadata": {},
   "outputs": [
    {
     "name": "stderr",
     "output_type": "stream",
     "text": [
      "/opt/anaconda3/lib/python3.12/site-packages/pandas/core/indexes/base.py:7588: FutureWarning: Dtype inference on a pandas object (Series, Index, ExtensionArray) is deprecated. The Index constructor will keep the original dtype in the future. Call `infer_objects` on the result to get the old behavior.\n",
      "  return Index(sequences[0], name=names)\n"
     ]
    },
    {
     "data": {
      "text/plain": [
       "<Axes: xlabel='Date', ylabel='Avg Price'>"
      ]
     },
     "execution_count": 63,
     "metadata": {},
     "output_type": "execute_result"
    },
    {
     "data": {
      "image/png": "[encoded data removed]",
      "text/plain": [
       "<Figure size 640x480 with 1 Axes>"
      ]
     },
     "metadata": {},
     "output_type": "display_data"
    }
   ],
   "source": [
    "Sutton_data.plot(kind='line', x='Date', y='Avg_Price', ylabel='Avg Price')"
   ]
  },
  {
   "cell_type": "markdown",
   "metadata": {
    "colab_type": "text",
    "id": "aWTPqSJeqHnC"
   },
   "source": [
    "To limit the number of data points you have, you might want to extract the year from every month value your *Month* column. \n",
    "\n",
    "To this end, you *could* apply a ***lambda function***. Your logic could work as follows:\n",
    "1. look through the `Month` column\n",
    "2. extract the year from each individual value in that column \n",
    "3. store that corresponding year as separate column. \n",
    "\n",
    "Whether you go ahead with this is up to you. Just so long as you answer our initial brief: which boroughs of London have seen the greatest house price increase, on average, over the past two decades? "
   ]
  },
  {
   "cell_type": "code",
   "execution_count": 64,
   "metadata": {
    "colab": {},
    "colab_type": "code",
    "id": "e0DF92cyqnu8"
   },
   "outputs": [
    {
     "name": "stderr",
     "output_type": "stream",
     "text": [
      "/var/folders/vn/_qrvqjjx1yb4mwjbsrg0tnj80000gn/T/ipykernel_14246/3754366161.py:1: SettingWithCopyWarning: \n",
      "A value is trying to be set on a copy of a slice from a DataFrame.\n",
      "Try using .loc[row_indexer,col_indexer] = value instead\n",
      "\n",
      "See the caveats in the documentation: https://pandas.pydata.org/pandas-docs/stable/user_guide/indexing.html#returning-a-view-versus-a-copy\n",
      "  df['Year'] = df['Date'].apply(lambda y: y.year)\n"
     ]
    }
   ],
   "source": [
    "df['Year'] = df['Date'].apply(lambda y: y.year)"
   ]
  },
  {
   "cell_type": "code",
   "execution_count": 66,
   "metadata": {},
   "outputs": [],
   "source": [
    "dfg = df.groupby(by=['London_Borough', 'Year'])['Avg_Price'].mean()"
   ]
  },
  {
   "cell_type": "code",
   "execution_count": 70,
   "metadata": {},
   "outputs": [],
   "source": [
    "dfg = dfg.reset_index()"
   ]
  },
  {
   "cell_type": "code",
   "execution_count": 71,
   "metadata": {},
   "outputs": [
    {
     "data": {
      "text/html": [
       "<div>\n",
       "<style scoped>\n",
       "    .dataframe tbody tr th:only-of-type {\n",
       "        vertical-align: middle;\n",
       "    }\n",
       "\n",
       "    .dataframe tbody tr th {\n",
       "        vertical-align: top;\n",
       "    }\n",
       "\n",
       "    .dataframe thead th {\n",
       "        text-align: right;\n",
       "    }\n",
       "</style>\n",
       "<table border=\"1\" class=\"dataframe\">\n",
       "  <thead>\n",
       "    <tr style=\"text-align: right;\">\n",
       "      <th></th>\n",
       "      <th>London_Borough</th>\n",
       "      <th>Year</th>\n",
       "      <th>Avg_Price</th>\n",
       "    </tr>\n",
       "  </thead>\n",
       "  <tbody>\n",
       "    <tr>\n",
       "      <th>0</th>\n",
       "      <td>Barking &amp; Dagenham</td>\n",
       "      <td>1995</td>\n",
       "      <td>53265.416667</td>\n",
       "    </tr>\n",
       "    <tr>\n",
       "      <th>1</th>\n",
       "      <td>Barking &amp; Dagenham</td>\n",
       "      <td>1996</td>\n",
       "      <td>53162.666667</td>\n",
       "    </tr>\n",
       "    <tr>\n",
       "      <th>2</th>\n",
       "      <td>Barking &amp; Dagenham</td>\n",
       "      <td>1997</td>\n",
       "      <td>57537.583333</td>\n",
       "    </tr>\n",
       "    <tr>\n",
       "      <th>3</th>\n",
       "      <td>Barking &amp; Dagenham</td>\n",
       "      <td>1998</td>\n",
       "      <td>61969.666667</td>\n",
       "    </tr>\n",
       "    <tr>\n",
       "      <th>4</th>\n",
       "      <td>Barking &amp; Dagenham</td>\n",
       "      <td>1999</td>\n",
       "      <td>67145.333333</td>\n",
       "    </tr>\n",
       "    <tr>\n",
       "      <th>5</th>\n",
       "      <td>Barking &amp; Dagenham</td>\n",
       "      <td>2000</td>\n",
       "      <td>79715.500000</td>\n",
       "    </tr>\n",
       "    <tr>\n",
       "      <th>6</th>\n",
       "      <td>Barking &amp; Dagenham</td>\n",
       "      <td>2001</td>\n",
       "      <td>91140.250000</td>\n",
       "    </tr>\n",
       "    <tr>\n",
       "      <th>7</th>\n",
       "      <td>Barking &amp; Dagenham</td>\n",
       "      <td>2002</td>\n",
       "      <td>115356.250000</td>\n",
       "    </tr>\n",
       "    <tr>\n",
       "      <th>8</th>\n",
       "      <td>Barking &amp; Dagenham</td>\n",
       "      <td>2003</td>\n",
       "      <td>146478.750000</td>\n",
       "    </tr>\n",
       "    <tr>\n",
       "      <th>9</th>\n",
       "      <td>Barking &amp; Dagenham</td>\n",
       "      <td>2004</td>\n",
       "      <td>162593.666667</td>\n",
       "    </tr>\n",
       "    <tr>\n",
       "      <th>10</th>\n",
       "      <td>Barking &amp; Dagenham</td>\n",
       "      <td>2005</td>\n",
       "      <td>167923.333333</td>\n",
       "    </tr>\n",
       "    <tr>\n",
       "      <th>11</th>\n",
       "      <td>Barking &amp; Dagenham</td>\n",
       "      <td>2006</td>\n",
       "      <td>172541.416667</td>\n",
       "    </tr>\n",
       "    <tr>\n",
       "      <th>12</th>\n",
       "      <td>Barking &amp; Dagenham</td>\n",
       "      <td>2007</td>\n",
       "      <td>190074.333333</td>\n",
       "    </tr>\n",
       "    <tr>\n",
       "      <th>13</th>\n",
       "      <td>Barking &amp; Dagenham</td>\n",
       "      <td>2008</td>\n",
       "      <td>192589.666667</td>\n",
       "    </tr>\n",
       "    <tr>\n",
       "      <th>14</th>\n",
       "      <td>Barking &amp; Dagenham</td>\n",
       "      <td>2009</td>\n",
       "      <td>160816.416667</td>\n",
       "    </tr>\n",
       "    <tr>\n",
       "      <th>15</th>\n",
       "      <td>Barking &amp; Dagenham</td>\n",
       "      <td>2010</td>\n",
       "      <td>171212.666667</td>\n",
       "    </tr>\n",
       "    <tr>\n",
       "      <th>16</th>\n",
       "      <td>Barking &amp; Dagenham</td>\n",
       "      <td>2011</td>\n",
       "      <td>168030.750000</td>\n",
       "    </tr>\n",
       "    <tr>\n",
       "      <th>17</th>\n",
       "      <td>Barking &amp; Dagenham</td>\n",
       "      <td>2012</td>\n",
       "      <td>170496.500000</td>\n",
       "    </tr>\n",
       "    <tr>\n",
       "      <th>18</th>\n",
       "      <td>Barking &amp; Dagenham</td>\n",
       "      <td>2013</td>\n",
       "      <td>178586.000000</td>\n",
       "    </tr>\n",
       "    <tr>\n",
       "      <th>19</th>\n",
       "      <td>Barking &amp; Dagenham</td>\n",
       "      <td>2014</td>\n",
       "      <td>206790.750000</td>\n",
       "    </tr>\n",
       "    <tr>\n",
       "      <th>20</th>\n",
       "      <td>Barking &amp; Dagenham</td>\n",
       "      <td>2015</td>\n",
       "      <td>239980.583333</td>\n",
       "    </tr>\n",
       "    <tr>\n",
       "      <th>21</th>\n",
       "      <td>Barking &amp; Dagenham</td>\n",
       "      <td>2016</td>\n",
       "      <td>281570.166667</td>\n",
       "    </tr>\n",
       "    <tr>\n",
       "      <th>22</th>\n",
       "      <td>Barking &amp; Dagenham</td>\n",
       "      <td>2017</td>\n",
       "      <td>295771.000000</td>\n",
       "    </tr>\n",
       "    <tr>\n",
       "      <th>23</th>\n",
       "      <td>Barking &amp; Dagenham</td>\n",
       "      <td>2018</td>\n",
       "      <td>303429.500000</td>\n",
       "    </tr>\n",
       "    <tr>\n",
       "      <th>24</th>\n",
       "      <td>Barking &amp; Dagenham</td>\n",
       "      <td>2019</td>\n",
       "      <td>306536.000000</td>\n",
       "    </tr>\n",
       "    <tr>\n",
       "      <th>25</th>\n",
       "      <td>Barking &amp; Dagenham</td>\n",
       "      <td>2020</td>\n",
       "      <td>309238.416667</td>\n",
       "    </tr>\n",
       "    <tr>\n",
       "      <th>26</th>\n",
       "      <td>Barking &amp; Dagenham</td>\n",
       "      <td>2021</td>\n",
       "      <td>317677.583333</td>\n",
       "    </tr>\n",
       "    <tr>\n",
       "      <th>27</th>\n",
       "      <td>Barking &amp; Dagenham</td>\n",
       "      <td>2022</td>\n",
       "      <td>342717.000000</td>\n",
       "    </tr>\n",
       "    <tr>\n",
       "      <th>28</th>\n",
       "      <td>Barking &amp; Dagenham</td>\n",
       "      <td>2023</td>\n",
       "      <td>346955.333333</td>\n",
       "    </tr>\n",
       "    <tr>\n",
       "      <th>29</th>\n",
       "      <td>Barking &amp; Dagenham</td>\n",
       "      <td>2024</td>\n",
       "      <td>342239.833333</td>\n",
       "    </tr>\n",
       "    <tr>\n",
       "      <th>30</th>\n",
       "      <td>Barking &amp; Dagenham</td>\n",
       "      <td>2025</td>\n",
       "      <td>367092.800000</td>\n",
       "    </tr>\n",
       "    <tr>\n",
       "      <th>31</th>\n",
       "      <td>Barnet</td>\n",
       "      <td>1995</td>\n",
       "      <td>97365.083333</td>\n",
       "    </tr>\n",
       "    <tr>\n",
       "      <th>32</th>\n",
       "      <td>Barnet</td>\n",
       "      <td>1996</td>\n",
       "      <td>99707.000000</td>\n",
       "    </tr>\n",
       "    <tr>\n",
       "      <th>33</th>\n",
       "      <td>Barnet</td>\n",
       "      <td>1997</td>\n",
       "      <td>113371.833333</td>\n",
       "    </tr>\n",
       "    <tr>\n",
       "      <th>34</th>\n",
       "      <td>Barnet</td>\n",
       "      <td>1998</td>\n",
       "      <td>129787.750000</td>\n",
       "    </tr>\n",
       "    <tr>\n",
       "      <th>35</th>\n",
       "      <td>Barnet</td>\n",
       "      <td>1999</td>\n",
       "      <td>144261.083333</td>\n",
       "    </tr>\n",
       "    <tr>\n",
       "      <th>36</th>\n",
       "      <td>Barnet</td>\n",
       "      <td>2000</td>\n",
       "      <td>178148.750000</td>\n",
       "    </tr>\n",
       "    <tr>\n",
       "      <th>37</th>\n",
       "      <td>Barnet</td>\n",
       "      <td>2001</td>\n",
       "      <td>196828.500000</td>\n",
       "    </tr>\n",
       "    <tr>\n",
       "      <th>38</th>\n",
       "      <td>Barnet</td>\n",
       "      <td>2002</td>\n",
       "      <td>234147.083333</td>\n",
       "    </tr>\n",
       "    <tr>\n",
       "      <th>39</th>\n",
       "      <td>Barnet</td>\n",
       "      <td>2003</td>\n",
       "      <td>266463.583333</td>\n",
       "    </tr>\n",
       "    <tr>\n",
       "      <th>40</th>\n",
       "      <td>Barnet</td>\n",
       "      <td>2004</td>\n",
       "      <td>288357.916667</td>\n",
       "    </tr>\n",
       "    <tr>\n",
       "      <th>41</th>\n",
       "      <td>Barnet</td>\n",
       "      <td>2005</td>\n",
       "      <td>296425.250000</td>\n",
       "    </tr>\n",
       "    <tr>\n",
       "      <th>42</th>\n",
       "      <td>Barnet</td>\n",
       "      <td>2006</td>\n",
       "      <td>309024.416667</td>\n",
       "    </tr>\n",
       "    <tr>\n",
       "      <th>43</th>\n",
       "      <td>Barnet</td>\n",
       "      <td>2007</td>\n",
       "      <td>346762.083333</td>\n",
       "    </tr>\n",
       "    <tr>\n",
       "      <th>44</th>\n",
       "      <td>Barnet</td>\n",
       "      <td>2008</td>\n",
       "      <td>350058.416667</td>\n",
       "    </tr>\n",
       "    <tr>\n",
       "      <th>45</th>\n",
       "      <td>Barnet</td>\n",
       "      <td>2009</td>\n",
       "      <td>317261.000000</td>\n",
       "    </tr>\n",
       "    <tr>\n",
       "      <th>46</th>\n",
       "      <td>Barnet</td>\n",
       "      <td>2010</td>\n",
       "      <td>353351.916667</td>\n",
       "    </tr>\n",
       "    <tr>\n",
       "      <th>47</th>\n",
       "      <td>Barnet</td>\n",
       "      <td>2011</td>\n",
       "      <td>359556.750000</td>\n",
       "    </tr>\n",
       "    <tr>\n",
       "      <th>48</th>\n",
       "      <td>Barnet</td>\n",
       "      <td>2012</td>\n",
       "      <td>380399.000000</td>\n",
       "    </tr>\n",
       "    <tr>\n",
       "      <th>49</th>\n",
       "      <td>Barnet</td>\n",
       "      <td>2013</td>\n",
       "      <td>397522.250000</td>\n",
       "    </tr>\n",
       "  </tbody>\n",
       "</table>\n",
       "</div>"
      ],
      "text/plain": [
       "        London_Borough  Year      Avg_Price\n",
       "0   Barking & Dagenham  1995   53265.416667\n",
       "1   Barking & Dagenham  1996   53162.666667\n",
       "2   Barking & Dagenham  1997   57537.583333\n",
       "3   Barking & Dagenham  1998   61969.666667\n",
       "4   Barking & Dagenham  1999   67145.333333\n",
       "5   Barking & Dagenham  2000   79715.500000\n",
       "6   Barking & Dagenham  2001   91140.250000\n",
       "7   Barking & Dagenham  2002  115356.250000\n",
       "8   Barking & Dagenham  2003  146478.750000\n",
       "9   Barking & Dagenham  2004  162593.666667\n",
       "10  Barking & Dagenham  2005  167923.333333\n",
       "11  Barking & Dagenham  2006  172541.416667\n",
       "12  Barking & Dagenham  2007  190074.333333\n",
       "13  Barking & Dagenham  2008  192589.666667\n",
       "14  Barking & Dagenham  2009  160816.416667\n",
       "15  Barking & Dagenham  2010  171212.666667\n",
       "16  Barking & Dagenham  2011  168030.750000\n",
       "17  Barking & Dagenham  2012  170496.500000\n",
       "18  Barking & Dagenham  2013  178586.000000\n",
       "19  Barking & Dagenham  2014  206790.750000\n",
       "20  Barking & Dagenham  2015  239980.583333\n",
       "21  Barking & Dagenham  2016  281570.166667\n",
       "22  Barking & Dagenham  2017  295771.000000\n",
       "23  Barking & Dagenham  2018  303429.500000\n",
       "24  Barking & Dagenham  2019  306536.000000\n",
       "25  Barking & Dagenham  2020  309238.416667\n",
       "26  Barking & Dagenham  2021  317677.583333\n",
       "27  Barking & Dagenham  2022  342717.000000\n",
       "28  Barking & Dagenham  2023  346955.333333\n",
       "29  Barking & Dagenham  2024  342239.833333\n",
       "30  Barking & Dagenham  2025  367092.800000\n",
       "31              Barnet  1995   97365.083333\n",
       "32              Barnet  1996   99707.000000\n",
       "33              Barnet  1997  113371.833333\n",
       "34              Barnet  1998  129787.750000\n",
       "35              Barnet  1999  144261.083333\n",
       "36              Barnet  2000  178148.750000\n",
       "37              Barnet  2001  196828.500000\n",
       "38              Barnet  2002  234147.083333\n",
       "39              Barnet  2003  266463.583333\n",
       "40              Barnet  2004  288357.916667\n",
       "41              Barnet  2005  296425.250000\n",
       "42              Barnet  2006  309024.416667\n",
       "43              Barnet  2007  346762.083333\n",
       "44              Barnet  2008  350058.416667\n",
       "45              Barnet  2009  317261.000000\n",
       "46              Barnet  2010  353351.916667\n",
       "47              Barnet  2011  359556.750000\n",
       "48              Barnet  2012  380399.000000\n",
       "49              Barnet  2013  397522.250000"
      ]
     },
     "execution_count": 71,
     "metadata": {},
     "output_type": "execute_result"
    }
   ],
   "source": [
    "dfg.head(50)"
   ]
  },
  {
   "cell_type": "markdown",
   "metadata": {
    "colab_type": "text",
    "id": "2knuTxAEqoJ4"
   },
   "source": [
    "**3. Modeling**\n",
    "\n",
    "Consider creating a function that will calculate a ratio of house prices, comparing the price of a house in 2018 to the price in 1998.\n",
    "\n",
    "Consider calling this function create_price_ratio.\n",
    "\n",
    "You'd want this function to:\n",
    "1. Take a filter of dfg, specifically where this filter constrains the London_Borough, as an argument. For example, one admissible argument should be: dfg[dfg['London_Borough']=='Camden'].\n",
    "2. Get the Average Price for that Borough, for the years 1998 and 2018.\n",
    "4. Calculate the ratio of the Average Price for 1998 divided by the Average Price for 2018.\n",
    "5. Return that ratio.\n",
    "\n",
    "Once you've written this function, you ultimately want to use it to iterate through all the unique London_Boroughs and work out the ratio capturing the difference of house prices between 1998 and 2018.\n",
    "\n",
    "Bear in mind: you don't have to write a function like this if you don't want to. If you can solve the brief otherwise, then great! \n",
    "\n",
    "***Hint***: This section should test the skills you acquired in:\n",
    "- Python Data Science Toolbox - Part One, all modules"
   ]
  },
  {
   "cell_type": "code",
   "execution_count": 77,
   "metadata": {
    "colab": {},
    "colab_type": "code",
    "id": "cKTyr437UgDa"
   },
   "outputs": [],
   "source": [
    "def calc_ratio(borough_name):\n",
    "    \"\"\" Enter the borough_name to return the ratio of Average House Price from 1998 to 2018 \"\"\"\n",
    "    x = dfg[dfg['London_Borough'] == borough_name]\n",
    "    y1998 = float(x['Avg_Price'][x['Year'] == 1998])\n",
    "    y2018 = float(x['Avg_Price'][x['Year'] == 2018])\n",
    "    r = [y2018/y1998]\n",
    "    return r"
   ]
  },
  {
   "cell_type": "code",
   "execution_count": 78,
   "metadata": {},
   "outputs": [
    {
     "name": "stderr",
     "output_type": "stream",
     "text": [
      "/var/folders/vn/_qrvqjjx1yb4mwjbsrg0tnj80000gn/T/ipykernel_14246/2989193473.py:4: FutureWarning: Calling float on a single element Series is deprecated and will raise a TypeError in the future. Use float(ser.iloc[0]) instead\n",
      "  y1998 = float(x['Avg_Price'][x['Year'] == 1998])\n",
      "/var/folders/vn/_qrvqjjx1yb4mwjbsrg0tnj80000gn/T/ipykernel_14246/2989193473.py:5: FutureWarning: Calling float on a single element Series is deprecated and will raise a TypeError in the future. Use float(ser.iloc[0]) instead\n",
      "  y2018 = float(x['Avg_Price'][x['Year'] == 2018])\n"
     ]
    },
    {
     "data": {
      "text/plain": [
       "[4.934042636046768]"
      ]
     },
     "execution_count": 78,
     "metadata": {},
     "output_type": "execute_result"
    }
   ],
   "source": [
    "calc_ratio('Camden')"
   ]
  },
  {
   "cell_type": "code",
   "execution_count": 79,
   "metadata": {},
   "outputs": [
    {
     "name": "stderr",
     "output_type": "stream",
     "text": [
      "/var/folders/vn/_qrvqjjx1yb4mwjbsrg0tnj80000gn/T/ipykernel_14246/2989193473.py:4: FutureWarning: Calling float on a single element Series is deprecated and will raise a TypeError in the future. Use float(ser.iloc[0]) instead\n",
      "  y1998 = float(x['Avg_Price'][x['Year'] == 1998])\n",
      "/var/folders/vn/_qrvqjjx1yb4mwjbsrg0tnj80000gn/T/ipykernel_14246/2989193473.py:5: FutureWarning: Calling float on a single element Series is deprecated and will raise a TypeError in the future. Use float(ser.iloc[0]) instead\n",
      "  y2018 = float(x['Avg_Price'][x['Year'] == 2018])\n"
     ]
    },
    {
     "data": {
      "text/plain": [
       "[4.357781583136056]"
      ]
     },
     "execution_count": 79,
     "metadata": {},
     "output_type": "execute_result"
    }
   ],
   "source": [
    "calc_ratio('Barnet')"
   ]
  },
  {
   "cell_type": "code",
   "execution_count": 80,
   "metadata": {},
   "outputs": [],
   "source": [
    "tdr = {}"
   ]
  },
  {
   "cell_type": "code",
   "execution_count": 81,
   "metadata": {},
   "outputs": [
    {
     "name": "stdout",
     "output_type": "stream",
     "text": [
      "{'Barking & Dagenham': [4.896419753750491], 'Barnet': [4.357781583136056], 'Bexley': [4.249831017882133], 'Brent': [4.895458676582117], 'Bromley': [4.094844535695022], 'Camden': [4.934042636046768], 'Croydon': [4.200990306743318], 'Ealing': [4.311774701171111], 'Enfield': [4.262742326434982], 'Greenwich': [4.763570367287282], 'Hackney': [6.198333689539375], 'Hammersmith & Fulham': [4.138940818546001], 'Haringey': [5.134551273214393], 'Harrow': [4.059150558219601], 'Havering': [4.325868090043559], 'Hillingdon': [4.200285475242334], 'Hounslow': [3.9770769170792564], 'Islington': [4.841875765516273], 'Kensington & Chelsea': [5.0821736365191414], 'Kingston upon Thames': [4.270039865280501], 'Lambeth': [4.958197908650582], 'Lewisham': [5.447926380342587], 'Merton': [4.745154894743145], 'Newham': [5.307659578480389], 'Redbridge': [4.470182934491858], 'Richmond upon Thames': [4.002758912594101], 'Southwark': [5.5163703746415], 'Sutton': [4.118878183094154], 'Tower Hamlets': [4.626734128145344], 'Waltham Forest': [5.83512835384709], 'Wandsworth': [4.757573563736319], 'Westminster': [5.352730990446882]}\n"
     ]
    },
    {
     "name": "stderr",
     "output_type": "stream",
     "text": [
      "/var/folders/vn/_qrvqjjx1yb4mwjbsrg0tnj80000gn/T/ipykernel_14246/2989193473.py:4: FutureWarning: Calling float on a single element Series is deprecated and will raise a TypeError in the future. Use float(ser.iloc[0]) instead\n",
      "  y1998 = float(x['Avg_Price'][x['Year'] == 1998])\n",
      "/var/folders/vn/_qrvqjjx1yb4mwjbsrg0tnj80000gn/T/ipykernel_14246/2989193473.py:5: FutureWarning: Calling float on a single element Series is deprecated and will raise a TypeError in the future. Use float(ser.iloc[0]) instead\n",
      "  y2018 = float(x['Avg_Price'][x['Year'] == 2018])\n"
     ]
    }
   ],
   "source": [
    "for b in dfg['London_Borough'].unique():\n",
    "    tdr[b] = calc_ratio(b)\n",
    "\n",
    "print(tdr)"
   ]
  },
  {
   "cell_type": "code",
   "execution_count": 143,
   "metadata": {},
   "outputs": [],
   "source": [
    "TDR_Final = pd.DataFrame(tdr)"
   ]
  },
  {
   "cell_type": "code",
   "execution_count": 145,
   "metadata": {},
   "outputs": [
    {
     "data": {
      "text/html": [
       "<div>\n",
       "<style scoped>\n",
       "    .dataframe tbody tr th:only-of-type {\n",
       "        vertical-align: middle;\n",
       "    }\n",
       "\n",
       "    .dataframe tbody tr th {\n",
       "        vertical-align: top;\n",
       "    }\n",
       "\n",
       "    .dataframe thead th {\n",
       "        text-align: right;\n",
       "    }\n",
       "</style>\n",
       "<table border=\"1\" class=\"dataframe\">\n",
       "  <thead>\n",
       "    <tr style=\"text-align: right;\">\n",
       "      <th></th>\n",
       "      <th>Barking &amp; Dagenham</th>\n",
       "      <th>Barnet</th>\n",
       "      <th>Bexley</th>\n",
       "      <th>Brent</th>\n",
       "      <th>Bromley</th>\n",
       "      <th>Camden</th>\n",
       "      <th>Croydon</th>\n",
       "      <th>Ealing</th>\n",
       "      <th>Enfield</th>\n",
       "      <th>Greenwich</th>\n",
       "      <th>...</th>\n",
       "      <th>Merton</th>\n",
       "      <th>Newham</th>\n",
       "      <th>Redbridge</th>\n",
       "      <th>Richmond upon Thames</th>\n",
       "      <th>Southwark</th>\n",
       "      <th>Sutton</th>\n",
       "      <th>Tower Hamlets</th>\n",
       "      <th>Waltham Forest</th>\n",
       "      <th>Wandsworth</th>\n",
       "      <th>Westminster</th>\n",
       "    </tr>\n",
       "  </thead>\n",
       "  <tbody>\n",
       "    <tr>\n",
       "      <th>0</th>\n",
       "      <td>4.89642</td>\n",
       "      <td>4.357782</td>\n",
       "      <td>4.249831</td>\n",
       "      <td>4.895459</td>\n",
       "      <td>4.094845</td>\n",
       "      <td>4.934043</td>\n",
       "      <td>4.20099</td>\n",
       "      <td>4.311775</td>\n",
       "      <td>4.262742</td>\n",
       "      <td>4.76357</td>\n",
       "      <td>...</td>\n",
       "      <td>4.745155</td>\n",
       "      <td>5.30766</td>\n",
       "      <td>4.470183</td>\n",
       "      <td>4.002759</td>\n",
       "      <td>5.51637</td>\n",
       "      <td>4.118878</td>\n",
       "      <td>4.626734</td>\n",
       "      <td>5.835128</td>\n",
       "      <td>4.757574</td>\n",
       "      <td>5.352731</td>\n",
       "    </tr>\n",
       "  </tbody>\n",
       "</table>\n",
       "<p>1 rows × 32 columns</p>\n",
       "</div>"
      ],
      "text/plain": [
       "   Barking & Dagenham    Barnet    Bexley     Brent   Bromley    Camden  \\\n",
       "0             4.89642  4.357782  4.249831  4.895459  4.094845  4.934043   \n",
       "\n",
       "   Croydon    Ealing   Enfield  Greenwich  ...    Merton   Newham  Redbridge  \\\n",
       "0  4.20099  4.311775  4.262742    4.76357  ...  4.745155  5.30766   4.470183   \n",
       "\n",
       "   Richmond upon Thames  Southwark    Sutton  Tower Hamlets  Waltham Forest  \\\n",
       "0              4.002759    5.51637  4.118878       4.626734        5.835128   \n",
       "\n",
       "   Wandsworth  Westminster  \n",
       "0    4.757574     5.352731  \n",
       "\n",
       "[1 rows x 32 columns]"
      ]
     },
     "execution_count": 145,
     "metadata": {},
     "output_type": "execute_result"
    }
   ],
   "source": [
    "TDR_Final.head()"
   ]
  },
  {
   "cell_type": "code",
   "execution_count": 146,
   "metadata": {},
   "outputs": [],
   "source": [
    "TDR_Final_T = TDR_Final.T.reset_index()"
   ]
  },
  {
   "cell_type": "code",
   "execution_count": 147,
   "metadata": {},
   "outputs": [
    {
     "data": {
      "text/html": [
       "<div>\n",
       "<style scoped>\n",
       "    .dataframe tbody tr th:only-of-type {\n",
       "        vertical-align: middle;\n",
       "    }\n",
       "\n",
       "    .dataframe tbody tr th {\n",
       "        vertical-align: top;\n",
       "    }\n",
       "\n",
       "    .dataframe thead th {\n",
       "        text-align: right;\n",
       "    }\n",
       "</style>\n",
       "<table border=\"1\" class=\"dataframe\">\n",
       "  <thead>\n",
       "    <tr style=\"text-align: right;\">\n",
       "      <th></th>\n",
       "      <th>index</th>\n",
       "      <th>0</th>\n",
       "    </tr>\n",
       "  </thead>\n",
       "  <tbody>\n",
       "    <tr>\n",
       "      <th>0</th>\n",
       "      <td>Barking &amp; Dagenham</td>\n",
       "      <td>4.896420</td>\n",
       "    </tr>\n",
       "    <tr>\n",
       "      <th>1</th>\n",
       "      <td>Barnet</td>\n",
       "      <td>4.357782</td>\n",
       "    </tr>\n",
       "    <tr>\n",
       "      <th>2</th>\n",
       "      <td>Bexley</td>\n",
       "      <td>4.249831</td>\n",
       "    </tr>\n",
       "    <tr>\n",
       "      <th>3</th>\n",
       "      <td>Brent</td>\n",
       "      <td>4.895459</td>\n",
       "    </tr>\n",
       "    <tr>\n",
       "      <th>4</th>\n",
       "      <td>Bromley</td>\n",
       "      <td>4.094845</td>\n",
       "    </tr>\n",
       "  </tbody>\n",
       "</table>\n",
       "</div>"
      ],
      "text/plain": [
       "                index         0\n",
       "0  Barking & Dagenham  4.896420\n",
       "1              Barnet  4.357782\n",
       "2              Bexley  4.249831\n",
       "3               Brent  4.895459\n",
       "4             Bromley  4.094845"
      ]
     },
     "execution_count": 147,
     "metadata": {},
     "output_type": "execute_result"
    }
   ],
   "source": [
    "TDR_Final_T.head()"
   ]
  },
  {
   "cell_type": "code",
   "execution_count": 152,
   "metadata": {},
   "outputs": [],
   "source": [
    "TDR_Final_T.rename(columns={'index': 'London_Borough', 0: 'AvgPrice_Growth_1998_2018'}, inplace=True)"
   ]
  },
  {
   "cell_type": "code",
   "execution_count": 153,
   "metadata": {},
   "outputs": [],
   "source": [
    "TDR_Final_Sorted = TDR_Final_T.sort_values(by='AvgPrice_Growth_1998_2018', ascending=False)"
   ]
  },
  {
   "cell_type": "code",
   "execution_count": 155,
   "metadata": {},
   "outputs": [
    {
     "data": {
      "text/html": [
       "<div>\n",
       "<style scoped>\n",
       "    .dataframe tbody tr th:only-of-type {\n",
       "        vertical-align: middle;\n",
       "    }\n",
       "\n",
       "    .dataframe tbody tr th {\n",
       "        vertical-align: top;\n",
       "    }\n",
       "\n",
       "    .dataframe thead th {\n",
       "        text-align: right;\n",
       "    }\n",
       "</style>\n",
       "<table border=\"1\" class=\"dataframe\">\n",
       "  <thead>\n",
       "    <tr style=\"text-align: right;\">\n",
       "      <th></th>\n",
       "      <th>London_Borough</th>\n",
       "      <th>AvgPrice_Growth_1998_2018</th>\n",
       "    </tr>\n",
       "  </thead>\n",
       "  <tbody>\n",
       "    <tr>\n",
       "      <th>10</th>\n",
       "      <td>Hackney</td>\n",
       "      <td>6.198334</td>\n",
       "    </tr>\n",
       "    <tr>\n",
       "      <th>29</th>\n",
       "      <td>Waltham Forest</td>\n",
       "      <td>5.835128</td>\n",
       "    </tr>\n",
       "    <tr>\n",
       "      <th>26</th>\n",
       "      <td>Southwark</td>\n",
       "      <td>5.516370</td>\n",
       "    </tr>\n",
       "    <tr>\n",
       "      <th>21</th>\n",
       "      <td>Lewisham</td>\n",
       "      <td>5.447926</td>\n",
       "    </tr>\n",
       "    <tr>\n",
       "      <th>31</th>\n",
       "      <td>Westminster</td>\n",
       "      <td>5.352731</td>\n",
       "    </tr>\n",
       "    <tr>\n",
       "      <th>23</th>\n",
       "      <td>Newham</td>\n",
       "      <td>5.307660</td>\n",
       "    </tr>\n",
       "    <tr>\n",
       "      <th>12</th>\n",
       "      <td>Haringey</td>\n",
       "      <td>5.134551</td>\n",
       "    </tr>\n",
       "    <tr>\n",
       "      <th>18</th>\n",
       "      <td>Kensington &amp; Chelsea</td>\n",
       "      <td>5.082174</td>\n",
       "    </tr>\n",
       "    <tr>\n",
       "      <th>20</th>\n",
       "      <td>Lambeth</td>\n",
       "      <td>4.958198</td>\n",
       "    </tr>\n",
       "    <tr>\n",
       "      <th>5</th>\n",
       "      <td>Camden</td>\n",
       "      <td>4.934043</td>\n",
       "    </tr>\n",
       "    <tr>\n",
       "      <th>0</th>\n",
       "      <td>Barking &amp; Dagenham</td>\n",
       "      <td>4.896420</td>\n",
       "    </tr>\n",
       "    <tr>\n",
       "      <th>3</th>\n",
       "      <td>Brent</td>\n",
       "      <td>4.895459</td>\n",
       "    </tr>\n",
       "    <tr>\n",
       "      <th>17</th>\n",
       "      <td>Islington</td>\n",
       "      <td>4.841876</td>\n",
       "    </tr>\n",
       "    <tr>\n",
       "      <th>9</th>\n",
       "      <td>Greenwich</td>\n",
       "      <td>4.763570</td>\n",
       "    </tr>\n",
       "    <tr>\n",
       "      <th>30</th>\n",
       "      <td>Wandsworth</td>\n",
       "      <td>4.757574</td>\n",
       "    </tr>\n",
       "    <tr>\n",
       "      <th>22</th>\n",
       "      <td>Merton</td>\n",
       "      <td>4.745155</td>\n",
       "    </tr>\n",
       "    <tr>\n",
       "      <th>28</th>\n",
       "      <td>Tower Hamlets</td>\n",
       "      <td>4.626734</td>\n",
       "    </tr>\n",
       "    <tr>\n",
       "      <th>24</th>\n",
       "      <td>Redbridge</td>\n",
       "      <td>4.470183</td>\n",
       "    </tr>\n",
       "    <tr>\n",
       "      <th>1</th>\n",
       "      <td>Barnet</td>\n",
       "      <td>4.357782</td>\n",
       "    </tr>\n",
       "    <tr>\n",
       "      <th>14</th>\n",
       "      <td>Havering</td>\n",
       "      <td>4.325868</td>\n",
       "    </tr>\n",
       "    <tr>\n",
       "      <th>7</th>\n",
       "      <td>Ealing</td>\n",
       "      <td>4.311775</td>\n",
       "    </tr>\n",
       "    <tr>\n",
       "      <th>19</th>\n",
       "      <td>Kingston upon Thames</td>\n",
       "      <td>4.270040</td>\n",
       "    </tr>\n",
       "    <tr>\n",
       "      <th>8</th>\n",
       "      <td>Enfield</td>\n",
       "      <td>4.262742</td>\n",
       "    </tr>\n",
       "    <tr>\n",
       "      <th>2</th>\n",
       "      <td>Bexley</td>\n",
       "      <td>4.249831</td>\n",
       "    </tr>\n",
       "    <tr>\n",
       "      <th>6</th>\n",
       "      <td>Croydon</td>\n",
       "      <td>4.200990</td>\n",
       "    </tr>\n",
       "    <tr>\n",
       "      <th>15</th>\n",
       "      <td>Hillingdon</td>\n",
       "      <td>4.200285</td>\n",
       "    </tr>\n",
       "    <tr>\n",
       "      <th>11</th>\n",
       "      <td>Hammersmith &amp; Fulham</td>\n",
       "      <td>4.138941</td>\n",
       "    </tr>\n",
       "    <tr>\n",
       "      <th>27</th>\n",
       "      <td>Sutton</td>\n",
       "      <td>4.118878</td>\n",
       "    </tr>\n",
       "    <tr>\n",
       "      <th>4</th>\n",
       "      <td>Bromley</td>\n",
       "      <td>4.094845</td>\n",
       "    </tr>\n",
       "    <tr>\n",
       "      <th>13</th>\n",
       "      <td>Harrow</td>\n",
       "      <td>4.059151</td>\n",
       "    </tr>\n",
       "    <tr>\n",
       "      <th>25</th>\n",
       "      <td>Richmond upon Thames</td>\n",
       "      <td>4.002759</td>\n",
       "    </tr>\n",
       "    <tr>\n",
       "      <th>16</th>\n",
       "      <td>Hounslow</td>\n",
       "      <td>3.977077</td>\n",
       "    </tr>\n",
       "  </tbody>\n",
       "</table>\n",
       "</div>"
      ],
      "text/plain": [
       "          London_Borough  AvgPrice_Growth_1998_2018\n",
       "10               Hackney                   6.198334\n",
       "29        Waltham Forest                   5.835128\n",
       "26             Southwark                   5.516370\n",
       "21              Lewisham                   5.447926\n",
       "31           Westminster                   5.352731\n",
       "23                Newham                   5.307660\n",
       "12              Haringey                   5.134551\n",
       "18  Kensington & Chelsea                   5.082174\n",
       "20               Lambeth                   4.958198\n",
       "5                 Camden                   4.934043\n",
       "0     Barking & Dagenham                   4.896420\n",
       "3                  Brent                   4.895459\n",
       "17             Islington                   4.841876\n",
       "9              Greenwich                   4.763570\n",
       "30            Wandsworth                   4.757574\n",
       "22                Merton                   4.745155\n",
       "28         Tower Hamlets                   4.626734\n",
       "24             Redbridge                   4.470183\n",
       "1                 Barnet                   4.357782\n",
       "14              Havering                   4.325868\n",
       "7                 Ealing                   4.311775\n",
       "19  Kingston upon Thames                   4.270040\n",
       "8                Enfield                   4.262742\n",
       "2                 Bexley                   4.249831\n",
       "6                Croydon                   4.200990\n",
       "15            Hillingdon                   4.200285\n",
       "11  Hammersmith & Fulham                   4.138941\n",
       "27                Sutton                   4.118878\n",
       "4                Bromley                   4.094845\n",
       "13                Harrow                   4.059151\n",
       "25  Richmond upon Thames                   4.002759\n",
       "16              Hounslow                   3.977077"
      ]
     },
     "execution_count": 155,
     "metadata": {},
     "output_type": "execute_result"
    }
   ],
   "source": [
    "TDR_Final_Sorted.head(32)"
   ]
  },
  {
   "cell_type": "markdown",
   "metadata": {
    "colab_type": "text",
    "id": "NzYUI7FxJpgv"
   },
   "source": [
    "### 4. Conclusion\n",
    "What can you conclude? Type out your conclusion below. \n",
    "\n",
    "Look back at your notebook. Think about how you might summarize what you have done, and prepare a quick presentation on it to your mentor at your next meeting. \n",
    "\n",
    "We hope you enjoyed this practical project. It should have consolidated your data hygiene and pandas skills by looking at a real-world problem involving just the kind of dataset you might encounter as a budding data scientist. Congratulations, and looking forward to seeing you at the next step in the course! "
   ]
  },
  {
   "cell_type": "code",
   "execution_count": 156,
   "metadata": {},
   "outputs": [
    {
     "data": {
      "text/plain": [
       "<Axes: xlabel='London_Borough', ylabel='AvgPrice_Growth_1998_2018'>"
      ]
     },
     "execution_count": 156,
     "metadata": {},
     "output_type": "execute_result"
    },
    {
     "data": {
      "image/png": "[encoded data removed]",
      "text/plain": [
       "<Figure size 640x480 with 1 Axes>"
      ]
     },
     "metadata": {},
     "output_type": "display_data"
    }
   ],
   "source": [
    "\"\"\" In conclusion, the boroughs on the plot below saw the greatest average increase in housing prices between 1998 and 2018.\n",
    "    Hackney saw the largest increase in housing prices, growing nearly 620% over the two decades. \n",
    "\n",
    "    PROCESS SUMMARY\n",
    "    To draw this conclution, I analyzed data provided from London Datastore. First I investigated the data source by looking at the shape,\n",
    "    and first several rows of the original DataFrame. Once I had a generalidea of what the data contained, I transposed the data to have \n",
    "    the London Boroughs as the first item in each row of the DataFrame. After transposing I had to make edits such as assigning the dates \n",
    "    as the column indices, re-naming two of the column headers,and removing a duplicate row once those edits had been made. I then used \n",
    "    the melt function to further transform the DataFrame so I had 1 row per date per borough. This format would be the best structure to \n",
    "    begin cleaning the data.\n",
    "\n",
    "    Earlier while inspecting the data I had noticed that there were some values with \"NaN\", so to begin cleaning the data I filtered out\n",
    "    any of the Average Price values that contained NaN. I had also noticed that there were some values in the 'London_Boroughs' column that\n",
    "    didn't belong such as \"City of London\" or \"England\". I pulled a list of all values from that column, then created a list of the values\n",
    "    that did not belong so I could filter them out of the dataframe. Once the data was cleaned I began vizualizing samples. By vizualizing \n",
    "    I determined observing each month was too many data points,so I created a new dataframe which grouped the years into one row per \n",
    "    London Borough, and had claculated the mean of the full year housing prices for that borough. \n",
    "\n",
    "    I then defined a formula that took a single input, the name of the borough, which would return the ratio between average price from 1998\n",
    "    to 2018 for that variable borough. I tested the definted function to ensure it worked properly, then created a for loop that used the \n",
    "    function to calculate the ratio for each of the 32 boroughs and stored the results in a dictionary. I formated that dictionary into\n",
    "    a new DataFrame, then was able to sort the results of that DataFrame to easily see each of the boroughs growth over the two decade span\n",
    "    in order to easily determine which boroughs of London saw the greatest increase in housing prices on average between the years in question.\n",
    "    \"\"\"\n",
    "\n",
    "TDR_Final_Sorted.head(15).plot(kind='bar', x='London_Borough', y='AvgPrice_Growth_1998_2018', ylabel='AvgPrice_Growth_1998_2018')"
   ]
  },
  {
   "cell_type": "code",
   "execution_count": null,
   "metadata": {},
   "outputs": [],
   "source": []
  }
 ],
 "metadata": {
  "colab": {
   "collapsed_sections": [],
   "name": "Springboard Data Science Career Track Unit 4 Challenge - Tier 3 Complete .ipynb",
   "provenance": []
  },
  "kernelspec": {
   "display_name": "Python [conda env:base] *",
   "language": "python",
   "name": "conda-base-py"
  },
  "language_info": {
   "codemirror_mode": {
    "name": "ipython",
    "version": 3
   },
   "file_extension": ".py",
   "mimetype": "text/x-python",
   "name": "python",
   "nbconvert_exporter": "python",
   "pygments_lexer": "ipython3",
   "version": "3.12.7"
  }
 },
 "nbformat": 4,
 "nbformat_minor": 4
}
